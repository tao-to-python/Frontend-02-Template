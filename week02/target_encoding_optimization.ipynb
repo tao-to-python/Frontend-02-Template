{
 "cells": [
  {
   "cell_type": "code",
   "execution_count": 1,
   "metadata": {
    "ExecuteTime": {
     "end_time": "2021-01-11T16:15:18.573376Z",
     "start_time": "2021-01-11T16:15:02.284643Z"
    }
   },
   "outputs": [],
   "source": [
    "import pandas as pd\n",
    "import numpy as np"
   ]
  },
  {
   "cell_type": "code",
   "execution_count": 6,
   "metadata": {
    "ExecuteTime": {
     "end_time": "2021-01-11T16:22:18.766850Z",
     "start_time": "2021-01-11T16:22:18.761594Z"
    }
   },
   "outputs": [],
   "source": [
    "y = np.random.randint(2, size=(5000, 1))\n",
    "x = np.random.randint(10, size=(5000, 1))\n",
    "data = pd.DataFrame(np.concatenate([y, x], axis=1), columns=['y', 'x'])"
   ]
  },
  {
   "cell_type": "markdown",
   "metadata": {},
   "source": [
    "### Base Version"
   ]
  },
  {
   "cell_type": "code",
   "execution_count": 7,
   "metadata": {
    "ExecuteTime": {
     "end_time": "2021-01-11T16:22:19.773719Z",
     "start_time": "2021-01-11T16:22:19.766198Z"
    }
   },
   "outputs": [],
   "source": [
    "def target_mean_v1(data, y_name, x_name):\n",
    "    result = np.zeros(data.shape[0])\n",
    "    for i in range(data.shape[0]):\n",
    "        groupby_result = data[data.index != i].groupby([x_name], as_index=False).agg(['mean', 'count'])\n",
    "        result[i] = groupby_result.loc[groupby_result.index == data.loc[i, x_name], (y_name, 'mean')]\n",
    "    return result"
   ]
  },
  {
   "cell_type": "code",
   "execution_count": 8,
   "metadata": {
    "ExecuteTime": {
     "end_time": "2021-01-11T16:22:34.503956Z",
     "start_time": "2021-01-11T16:22:20.212235Z"
    }
   },
   "outputs": [
    {
     "name": "stdout",
     "output_type": "stream",
     "text": [
      "1.77 s ± 69 ms per loop (mean ± std. dev. of 7 runs, 1 loop each)\n"
     ]
    }
   ],
   "source": [
    "%%timeit\n",
    "target_mean_v1(data,'y','x')"
   ]
  },
  {
   "cell_type": "markdown",
   "metadata": {},
   "source": [
    "### Without using groupby"
   ]
  },
  {
   "cell_type": "code",
   "execution_count": 19,
   "metadata": {
    "ExecuteTime": {
     "end_time": "2021-01-11T16:50:31.505323Z",
     "start_time": "2021-01-11T16:50:31.500570Z"
    }
   },
   "outputs": [],
   "source": [
    "def target_mean_v2(data,y_name, x_name):\n",
    "    sum_dict = dict()\n",
    "    count_dict = dict()\n",
    "    # calculate total sum(count) of y_label \n",
    "    for i,val in enumerate(data[x_name].values):\n",
    "        sum_dict[val] = sum_dict.get(val,0)+ data.loc[i,y_name]\n",
    "        count_dict[val] = count_dict.get(val,0)+1\n",
    "    # calculate the final result\n",
    "    result = np.zeros(data.shape[0])\n",
    "    for i in range(len(data)):\n",
    "        result[i] = (sum_dict[data.loc[i,x_name]]-data.loc[i,y_name])/(count_dict[data.loc[i,x_name]]-1)\n",
    "    return result   "
   ]
  },
  {
   "cell_type": "code",
   "execution_count": 20,
   "metadata": {
    "ExecuteTime": {
     "end_time": "2021-01-11T16:50:40.937938Z",
     "start_time": "2021-01-11T16:50:32.011001Z"
    }
   },
   "outputs": [
    {
     "name": "stdout",
     "output_type": "stream",
     "text": [
      "10.9 ms ± 476 µs per loop (mean ± std. dev. of 7 runs, 100 loops each)\n"
     ]
    }
   ],
   "source": [
    "%%timeit\n",
    "target_mean_v2(data,'y','x')"
   ]
  },
  {
   "cell_type": "code",
   "execution_count": 21,
   "metadata": {
    "ExecuteTime": {
     "end_time": "2021-01-11T16:57:53.779155Z",
     "start_time": "2021-01-11T16:57:53.772840Z"
    }
   },
   "outputs": [],
   "source": [
    "def target_mean_v3(data,y_name, x_name):\n",
    "    sum_dict = dict()\n",
    "    count_dict = dict()\n",
    "    # calculate total sum(count) of y_label \n",
    "    for i,val in enumerate(data[x_name].values):\n",
    "        sum_dict[val] = sum_dict.get(val,0)+ data.loc[i,y_name]\n",
    "        count_dict[val] = count_dict.get(val,0)+1\n",
    "    # calculate the final result\n",
    "    result = np.zeros(data.shape[0])\n",
    "    for i in range(len(data)):\n",
    "        tmp_x = data.loc[i,x_name]\n",
    "        result[i] = (sum_dict[tmp_x]-data.loc[i,y_name])/(count_dict[tmp_x]-1)\n",
    "    return result "
   ]
  },
  {
   "cell_type": "code",
   "execution_count": 22,
   "metadata": {
    "ExecuteTime": {
     "end_time": "2021-01-11T16:58:09.864619Z",
     "start_time": "2021-01-11T16:58:02.971955Z"
    }
   },
   "outputs": [
    {
     "name": "stdout",
     "output_type": "stream",
     "text": [
      "8.37 ms ± 435 µs per loop (mean ± std. dev. of 7 runs, 100 loops each)\n"
     ]
    }
   ],
   "source": [
    "%%timeit\n",
    "target_mean_v3(data,'y','x')"
   ]
  },
  {
   "cell_type": "markdown",
   "metadata": {},
   "source": [
    "*异常值处理*：分子为0时"
   ]
  },
  {
   "cell_type": "code",
   "execution_count": null,
   "metadata": {},
   "outputs": [],
   "source": []
  }
 ],
 "metadata": {
  "kernelspec": {
   "display_name": "Python 3",
   "language": "python",
   "name": "python3"
  },
  "language_info": {
   "codemirror_mode": {
    "name": "ipython",
    "version": 3
   },
   "file_extension": ".py",
   "mimetype": "text/x-python",
   "name": "python",
   "nbconvert_exporter": "python",
   "pygments_lexer": "ipython3",
   "version": "3.8.3"
  },
  "latex_envs": {
   "LaTeX_envs_menu_present": true,
   "autoclose": false,
   "autocomplete": true,
   "bibliofile": "biblio.bib",
   "cite_by": "apalike",
   "current_citInitial": 1,
   "eqLabelWithNumbers": true,
   "eqNumInitial": 1,
   "hotkeys": {
    "equation": "Ctrl-E",
    "itemize": "Ctrl-I"
   },
   "labels_anchors": false,
   "latex_user_defs": false,
   "report_style_numbering": false,
   "user_envs_cfg": false
  },
  "toc": {
   "base_numbering": 1,
   "nav_menu": {},
   "number_sections": true,
   "sideBar": true,
   "skip_h1_title": false,
   "title_cell": "Table of Contents",
   "title_sidebar": "Contents",
   "toc_cell": false,
   "toc_position": {},
   "toc_section_display": true,
   "toc_window_display": false
  }
 },
 "nbformat": 4,
 "nbformat_minor": 4
}
